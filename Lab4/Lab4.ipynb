{
  "nbformat": 4,
  "nbformat_minor": 0,
  "metadata": {
    "colab": {
      "name": "Lab4.ipynb",
      "provenance": [],
      "collapsed_sections": []
    },
    "kernelspec": {
      "name": "python3",
      "display_name": "Python 3"
    },
    "language_info": {
      "name": "python"
    }
  },
  "cells": [
    {
      "cell_type": "code",
      "metadata": {
        "id": "7VaCFGONLZDy"
      },
      "source": [
        "import pandas as pd\n",
        "\n",
        "df = pd.read_csv(\n",
        "        filepath_or_buffer= 'https://archive.ics.uci.edu/ml/machine-learning-databases/iris/iris.data' ,\n",
        "        header= None,\n",
        "        sep= ','\n",
        "      )\n",
        "df.columns=[ 'sepal_len' , 'sepal_wid' , 'petal_len' , 'petal_wid' , 'class' ]\n",
        "df.dropna(how= \"all\" , inplace= True ) # drops the empty line at file-end\n",
        "# Show the first 5 rows\n",
        "df.head( 5 )"
      ],
      "execution_count": null,
      "outputs": []
    },
    {
      "cell_type": "code",
      "metadata": {
        "id": "Rdj7VWIdMJO_"
      },
      "source": [
        "# split data table into data X and class labels y\n",
        "X = df.iloc[:, 0 : 4 ].values\n",
        "y = df.iloc[:, 4 ].values"
      ],
      "execution_count": 14,
      "outputs": []
    },
    {
      "cell_type": "code",
      "metadata": {
        "id": "Gg21h1ZrMKjK"
      },
      "source": [
        "import plotly.offline as py\n",
        "# plotting histograms\n",
        "data = []\n",
        "legend = { 0 : False , 1 : False , 2 : False , 3 : True }\n",
        "colors = { 'Iris-setosa' : '#0D76BF' ,\n",
        "          'Iris-versicolor' : '#00cc96' ,\n",
        "          'Iris-virginica' : '#EF553B' }\n",
        "for col in range ( 4 ):\n",
        "  for key in colors:\n",
        "    trace = dict (\n",
        "    type = 'histogram' ,\n",
        "    x= list (X[y==key, col]),\n",
        "    opacity= 0.75 ,\n",
        "    xaxis= 'x%s' %(col+ 1 ),\n",
        "    marker= dict (color=colors[key]),\n",
        "    name=key,\n",
        "    showlegend=legend[col]\n",
        "    )\n",
        "    data.append(trace)\n",
        "\n",
        "layout = dict (\n",
        "          barmode= 'overlay' ,\n",
        "          xaxis= dict (domain=[ 0 , 0.25 ], title= 'sepal length (cm)' ),\n",
        "          xaxis2= dict (domain=[ 0.3 , 0.5 ], title= 'sepal width (cm)' ),\n",
        "          xaxis3= dict (domain=[ 0.55 , 0.75 ], title= 'petal length (cm)' ),\n",
        "          xaxis4= dict (domain=[ 0.8 , 1 ], title= 'petal width (cm)' ),\n",
        "          yaxis= dict (title= 'count' ),\n",
        "          title= 'Distribution of the different Iris flower features'\n",
        "          )\n",
        "fig = dict (data=data, layout=layout)\n",
        "py.iplot(fig, filename= 'exploratory-vis-histogram' )"
      ],
      "execution_count": null,
      "outputs": []
    },
    {
      "cell_type": "code",
      "metadata": {
        "id": "uIpEotxeNnQi"
      },
      "source": [
        "import plotly.express as px\n",
        "df = px.data.iris()\n",
        "display(df)\n",
        "fig = px.scatter_matrix(df, dimensions=[\"sepal_width\", \"sepal_length\", \"petal_width\", \"petal_length\" ],color= \"species\" )\n",
        "fig.show()"
      ],
      "execution_count": null,
      "outputs": []
    },
    {
      "cell_type": "code",
      "metadata": {
        "id": "x4kwDS9hO7zx"
      },
      "source": [
        "from sklearn.preprocessing import StandardScaler\n",
        "X_std = StandardScaler().fit_transform(X)"
      ],
      "execution_count": 19,
      "outputs": []
    },
    {
      "cell_type": "code",
      "metadata": {
        "id": "WMdHnSQFQ-Mf"
      },
      "source": [
        "import numpy as np\n",
        "mean_vec = np.mean(X_std, axis= 0 )\n",
        "cov_mat = (X_std - mean_vec).T.dot((X_std - mean_vec)) /(X_std.shape[ 0 ] -1 )\n",
        "print ( 'Covariance matrix \\n%s' %cov_mat)"
      ],
      "execution_count": null,
      "outputs": []
    },
    {
      "cell_type": "code",
      "metadata": {
        "id": "ityiJro-Q--9"
      },
      "source": [
        "#The more verbose way above was simply used for demonstration purposes,\n",
        "# equivalently, we could have used the numpy cov function:\n",
        "print('NumPy covariance matrix: \\n%s' %np.cov(X_std.T))"
      ],
      "execution_count": null,
      "outputs": []
    },
    {
      "cell_type": "code",
      "metadata": {
        "id": "olywXyNKRC2J"
      },
      "source": [
        "cov_mat = np.cov(X_std.T)\n",
        "eig_vals, eig_vecs = np.linalg.eig(cov_mat)\n",
        "print ( 'Eigenvectors \\n%s' %eig_vecs)\n",
        "print ( '\\nEigenvalues \\n%s' %eig_vals)"
      ],
      "execution_count": null,
      "outputs": []
    },
    {
      "cell_type": "code",
      "metadata": {
        "id": "vYrqVYQQR4SS"
      },
      "source": [
        "# Make a list of (eigenvalue, eigenvector) tuples\n",
        "eig_pairs = [(np. abs (eig_vals[i]), eig_vecs[:,i]) for i in range ( len (eig_vals))]\n",
        "# Sort the (eigenvalue, eigenvector) tuples from high to low\n",
        "eig_pairs.sort()\n",
        "eig_pairs.reverse()\n",
        "# Visually confirm that the list is correctly sorted by decreasing\n",
        "# eigenvalues\n",
        "print('Eigenvalues in descending order:')\n",
        "for i in eig_pairs:\n",
        "  print(i[0])"
      ],
      "execution_count": null,
      "outputs": []
    },
    {
      "cell_type": "code",
      "metadata": {
        "id": "CZ1XlKZUSFyZ"
      },
      "source": [
        "import matplotlib.pyplot as plt\n",
        "tot = sum (np. abs (eig_vals))\n",
        "var_exp = [(i / tot) for i in sorted (np. abs (eig_vals), reverse= True )]\n",
        "cum_var_exp = np.cumsum(var_exp)\n",
        "plt.bar( range ( 1 , eig_vals.size + 1 ), var_exp, alpha= 0.5 , align= 'center' ,\n",
        "label= 'Individual' )\n",
        "plt.step( range ( 1 , eig_vals.size + 1 ), cum_var_exp, where= 'mid' ,\n",
        "label= 'Cumulative' )\n",
        "plt.ylabel( 'Explained variance ratio' )\n",
        "plt.xlabel( 'Principal components' )\n",
        "plt.legend(loc= 'best' )\n",
        "plt.tight_layout()\n",
        "plt.savefig( './fig-pca-var-exp.png' , dpi= 300 )\n",
        "plt.show()"
      ],
      "execution_count": null,
      "outputs": []
    },
    {
      "cell_type": "code",
      "metadata": {
        "id": "MFCCV700SLxy"
      },
      "source": [
        "matrix_w = np.hstack((eig_pairs[ 0 ][ 1 ].reshape( 4 , 1 ),\n",
        "eig_pairs[ 1 ][ 1 ].reshape( 4 , 1 )))\n",
        "print ( 'Matrix W:\\n' , matrix_w)"
      ],
      "execution_count": null,
      "outputs": []
    },
    {
      "cell_type": "code",
      "metadata": {
        "id": "4_By-N_eSNnE"
      },
      "source": [
        "Y = X_std.dot(matrix_w)"
      ],
      "execution_count": 36,
      "outputs": []
    },
    {
      "cell_type": "code",
      "metadata": {
        "id": "N-XB_ERuSOHO"
      },
      "source": [
        "#Plot the result\n",
        "colors = [ 'r' , 'b' , 'g' ]\n",
        "markers = [ '1' , '2' , '3' ]\n",
        "for l, c, m in zip (np.unique(y), colors, markers):\n",
        "  plt.scatter(Y[y==l, 0 ],\n",
        "    Y[y==l, 1 ],\n",
        "    c=c, label=l, marker=m)\n",
        "plt.title( 'Y' )\n",
        "plt.xlabel( 'PC 1' )\n",
        "plt.ylabel( 'PC 2' )\n",
        "plt.legend(loc= 'lower left' )\n",
        "plt.tight_layout()\n",
        "plt.savefig( './fig-pca-z.png' , dpi= 300 )\n",
        "plt.show()"
      ],
      "execution_count": null,
      "outputs": []
    }
  ]
}